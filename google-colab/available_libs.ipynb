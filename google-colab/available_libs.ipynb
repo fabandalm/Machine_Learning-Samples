{
  "nbformat": 4,
  "nbformat_minor": 0,
  "metadata": {
    "colab": {
      "name": "available_libs.ipynb",
      "provenance": [],
      "authorship_tag": "ABX9TyNCGXtrrPJvlLEM6GtEYmaj",
      "include_colab_link": true
    },
    "kernelspec": {
      "name": "python3",
      "display_name": "Python 3"
    }
  },
  "cells": [
    {
      "cell_type": "markdown",
      "metadata": {
        "id": "view-in-github",
        "colab_type": "text"
      },
      "source": [
        "<a href=\"https://colab.research.google.com/github/falmeida-tech/machine-learning-samples/blob/main/google-colab/available_libs.ipynb\" target=\"_parent\"><img src=\"https://colab.research.google.com/assets/colab-badge.svg\" alt=\"Open In Colab\"/></a>"
      ]
    },
    {
      "cell_type": "code",
      "metadata": {
        "colab": {
          "base_uri": "https://localhost:8080/"
        },
        "id": "mxOQtD_G5qz8",
        "outputId": "a434beac-150d-448e-9e7e-2ceeb33db695"
      },
      "source": [
        "import sklearn\n",
        "print(sklearn.__version__)\n",
        "import numpy\n",
        "print(numpy.__version__)"
      ],
      "execution_count": 2,
      "outputs": [
        {
          "output_type": "stream",
          "text": [
            "0.22.2.post1\n",
            "1.19.4\n"
          ],
          "name": "stdout"
        }
      ]
    }
  ]
}